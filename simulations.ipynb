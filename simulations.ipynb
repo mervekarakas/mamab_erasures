{
 "cells": [
  {
   "cell_type": "code",
   "execution_count": null,
   "metadata": {},
   "outputs": [],
   "source": [
    "from helper_methods import run_episodes, plot_and_save, run_predefined_means\n",
    "import numpy as np\n",
    "import matplotlib.pyplot as plt\n",
    "import pickle\n",
    "import math\n",
    "import random\n",
    "\n",
    "%load_ext autoreload\n",
    "%autoreload 2"
   ]
  },
  {
   "cell_type": "code",
   "execution_count": 2,
   "metadata": {},
   "outputs": [
    {
     "name": "stdout",
     "output_type": "stream",
     "text": [
      "experiment_k10_m20_iters5e+04_epis100_var1_eps0_9-0_93-0_95-0_99\n",
      "[4 8 5 4 3 6 2 3 7 7 5 5 6 8 8 0 5 3 4 9]\n"
     ]
    }
   ],
   "source": [
    "config = {\n",
    "    'k' : 10, #number of actions\n",
    "    'm' : 20, #number of agents\n",
    "    'iters' : int(5e4), #horizon\n",
    "    'episodes' : 100, #number of repetitions for the experiment\n",
    "    'var' : 1, #variance of the rewards\n",
    "    'c' : math.sqrt(1) #confidence coefficient based on variance\n",
    "}\n",
    "\n",
    "config['mu'] = 'random'\n",
    "config['epsilons'] = np.array( [0.9] * int(config['m'] / 4) \n",
    "                              + [0.93] * int(config['m'] / 4) \n",
    "                              + [0.95] * int(config['m'] / 4) \n",
    "                              + [0.99] * int(config['m'] / 4) ) \n",
    "\n",
    "\n",
    "# Get unique values from epsilons and sort them\n",
    "unique_epsilons = sorted(set(config['epsilons']))\n",
    "\n",
    "# Convert unique_epsilons to a string with dashes\n",
    "epsilons_str = '-'.join(map(str, unique_epsilons))\n",
    "epsilons_str = epsilons_str.replace('.', '_')\n",
    "\n",
    "# Create a filename with \"epis,\" formatted \"iters,\" unique epsilons, and epsilons indication\n",
    "formatted_iters = f\"{config['iters']:.0e}\"\n",
    "foldername = f\"experiment_k{config['k']}_m{config['m']}_iters{formatted_iters}_epis{config['episodes']}_var{config['var']}_eps{epsilons_str}\"\n",
    "\n",
    "base_actions = np.random.randint(config['k'], size=(config['m'],))\n",
    "\n",
    "print(foldername)\n",
    "print(base_actions)"
   ]
  },
  {
   "cell_type": "code",
   "execution_count": 3,
   "metadata": {},
   "outputs": [],
   "source": [
    "foldername += '_c_0-5_prerec'"
   ]
  },
  {
   "cell_type": "code",
   "execution_count": 4,
   "metadata": {},
   "outputs": [],
   "source": [
    "vars = {}\n",
    "algorithms = [\n",
    "    ('SAE', True, 'Weighted'),\n",
    "    ('SAE', True, 'Scheduled'),\n",
    "    ('UCB', False, ''),\n",
    "    ('SAE', False, ''),\n",
    "    ('SAE', True, 'Horizontal'),\n",
    "    ('SAE', True, 'Vertical')\n",
    "]"
   ]
  },
  {
   "cell_type": "code",
   "execution_count": 5,
   "metadata": {},
   "outputs": [
    {
     "name": "stdout",
     "output_type": "stream",
     "text": [
      "[1.0, 0, 0, 0, 0.8, 0, 0, 0, 0, 0]\n"
     ]
    }
   ],
   "source": [
    "config['mu'] = [0.8] + [0] * int(config['k'] / 2 - 1) + [1.0] + [0] * (config['k'] - int(config['k'] / 2 - 1) - 2)\n",
    "random.shuffle(config['mu'])"
   ]
  },
  {
   "cell_type": "code",
   "execution_count": 36,
   "metadata": {},
   "outputs": [
    {
     "name": "stdout",
     "output_type": "stream",
     "text": [
      "Experiment ended: 10 20 50000 [0.9  0.9  0.9  0.9  0.9  0.93 0.93 0.93 0.93 0.93 0.95 0.95 0.95 0.95\n",
      " 0.95 0.99 0.99 0.99 0.99 0.99]\n"
     ]
    }
   ],
   "source": [
    "# Run with means defined above\n",
    "for alg_name, rep, mode in algorithms:\n",
    "    name, file_loc = run_episodes(alg_name, \n",
    "                rep, \n",
    "                mode, \n",
    "                iters=config['iters'], \n",
    "                k=config['k'], \n",
    "                episodes=config['episodes'], \n",
    "                m=config['m'], \n",
    "                var=config['var'],\n",
    "                mu=config['mu'], \n",
    "                eps=config['epsilons'],\n",
    "                folder_name=foldername,\n",
    "                base_actions=base_actions)\n",
    "\n",
    "    vars[name] = pickle.load(open(file_loc, \"rb\"))"
   ]
  },
  {
   "cell_type": "code",
   "execution_count": null,
   "metadata": {},
   "outputs": [],
   "source": [
    "# Run with means stored in a file\n",
    "for alg_name, rep, mode in algorithms:\n",
    "    name, file_loc = run_predefined_means(alg_name, \n",
    "                rep, \n",
    "                mode, \n",
    "                iters=config['iters'], \n",
    "                k=config['k'], \n",
    "                episodes=config['episodes'], \n",
    "                m=config['m'], \n",
    "                var=config['var'],\n",
    "                #mu=config['mu'], \n",
    "                eps=config['epsilons'],\n",
    "                folder_name=foldername)\n",
    "\n",
    "    vars[name] = pickle.load(open(file_loc, \"rb\"))"
   ]
  },
  {
   "cell_type": "code",
   "execution_count": null,
   "metadata": {},
   "outputs": [],
   "source": [
    "results = []\n",
    "labels = []\n",
    "\n",
    "for elt in vars:\n",
    "    results.append(np.sum(vars[elt]['regret'], axis=1))\n",
    "    labels.append(elt)\n",
    "info = ' (K:'+str(config['k'])+', M: '+str(config['m']) + ', var: ' + str(config['var']) + ')'\n",
    "plot_and_save(results,labels, info=info, f_name='results_'+foldername)"
   ]
  },
  {
   "cell_type": "markdown",
   "metadata": {},
   "source": [
    "## "
   ]
  }
 ],
 "metadata": {
  "kernelspec": {
   "display_name": "cvxpy_env",
   "language": "python",
   "name": "python3"
  },
  "language_info": {
   "codemirror_mode": {
    "name": "ipython",
    "version": 3
   },
   "file_extension": ".py",
   "mimetype": "text/x-python",
   "name": "python",
   "nbconvert_exporter": "python",
   "pygments_lexer": "ipython3",
   "version": "3.11.5"
  },
  "orig_nbformat": 4
 },
 "nbformat": 4,
 "nbformat_minor": 2
}
